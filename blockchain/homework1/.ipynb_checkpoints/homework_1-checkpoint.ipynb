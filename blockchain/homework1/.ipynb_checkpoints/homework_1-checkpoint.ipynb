{
 "cells": [
  {
   "cell_type": "markdown",
   "metadata": {},
   "source": [
    "# CSCI E-118: Homework 1\n",
    "### Brett Bloethner"
   ]
  },
  {
   "cell_type": "markdown",
   "metadata": {},
   "source": [
    "#### Part 1\n",
    "The solution to homework one, part one can be seen in the image below where both the VirtualBox application and the Ubuntu virtual machine are visible on my desktop...\n",
    "\n",
    "![homework 1 part 1](img/part1_screenshot.png)"
   ]
  },
  {
   "cell_type": "markdown",
   "metadata": {},
   "source": [
    "#### Part 2, Question 1\n",
    "Part two, question one of homework one is answered below\n",
    "\n",
    ">If the PIP package ecdsa was using the Apache 2.0 license and I needed to modify and distrivute ecdsa with my own software, then I would do the following in order to abide by the Apache 2.0 agreement...\n",
    ">- Add a modification notice to any ecdsa files that I changed. `(Apache 2.0 Section 4b)`\n",
    ">- Provide the Apache 2.0 license and let the end user know that the license covers the original ecdsa software used in my code `(Apache 2.0 Section 4a & 4c)`\n",
    ">- If I want to, I might add a different copyright to the novel modifications that I've done to the original ecdsa works `(Apache 2.0 Section 4d)`\n",
    ">- I must not use the name \"ecdsa\" except for where it describes or relates to the original ecdsa code\n",
    ">- Also, as a personal/professional requirement rather than a legal one, I might try to do some sort of code review of the library to ensure its quality since Apache 2.0 Sections 7, 8 & 9 is sort of a hold harmless that describes that the Works give no gaurentee of quality or operability\n",
    ">\n",
    ">In reality, the `python-ecdsa` software is distributed with what seems to be a custom but short and simple Copyright agreement that outlines the following two conditions which must be met in order to use the software in custom works...\n",
    ">- The ecdsa software can be used anywhere, for anything as long as the ecdsa copyright notice is included in the ecdsa library code used in the software or where a substantial portion of the ecdsa code is used `(Paragraphs 1 & 2)`\n",
    ">- The user of the ecdsa software understands that they cannot hold the authors or copyright holders liable for anything that may happen as a result of ecdsas use and that the software is provided \"as is\" `(Paragraph 3)`"
   ]
  },
  {
   "cell_type": "markdown",
   "metadata": {},
   "source": [
    "#### Part 2, Question 2\n",
    "For part 2, question 2 as per the directions elaborated on in Piazza\n",
    "1. Alice signs the message...\n",
    "2. Charlier signs the message such that there are two separate digital signatures\n",
    "3. Bob then verifies the two signatures independently of one another"
   ]
  },
  {
   "cell_type": "code",
   "execution_count": 73,
   "metadata": {},
   "outputs": [
    {
     "name": "stdout",
     "output_type": "stream",
     "text": [
      "Bob successfully verified that Charlies signature is on this message\n",
      "Bob successfully verified that Alices signature is on this message\n"
     ]
    }
   ],
   "source": [
    "import random\n",
    "import ecdsa\n",
    "import hashlib\n",
    "import codecs\n",
    "\n",
    "# create the message to be signed\n",
    "message = \"Second message\".encode('utf-8')\n",
    "\n",
    "# create Charlies private key, signing key and verifying key\n",
    "random_element_c = ''.join(['%x' % random.randrange(16) for x in range(16)]).encode('utf-8')\n",
    "charlies_pk = codecs.encode(random_element_c, 'hex_codec')\n",
    "charlies_sk = ecdsa.SigningKey.from_string(charlies_pk, curve = ecdsa.SECP256k1)\n",
    "charlies_vk = charlies_sk.verifying_key\n",
    "\n",
    "# create Alices private key, signing key and verifying key\n",
    "random_element_a = ''.join(['%x' % random.randrange(16) for x in range(16)]).encode('utf-8')\n",
    "alices_pk = codecs.encode(random_element_a, 'hex_codec')\n",
    "alices_sk = ecdsa.SigningKey.from_string(alices_pk, curve = ecdsa.SECP256k1)\n",
    "alices_vk = alices_sk.verifying_key\n",
    "\n",
    "# charlie signs the message, then alice signs the message\n",
    "charlies_signature = charlies_sk.sign(message)\n",
    "alices_signature = alices_sk.sign(message)\n",
    "\n",
    "# Bob verifies that Charlie signed the message\n",
    "assert charlies_vk.verify(charlies_signature, message)\n",
    "print(\"Bob successfully verified that Charlies signature is on this message\")\n",
    "\n",
    "# Bob verifies that Alice signed the message\n",
    "assert alices_vk.verify(alices_signature, message)\n",
    "print(\"Bob successfully verified that Alices signature is on this message\")\n",
    "\n",
    "# END"
   ]
  },
  {
   "cell_type": "markdown",
   "metadata": {},
   "source": [
    "#### Part 2, Question 2 (Extra Credit)\n",
    "For part 2, question 2 (extra credit) as per the directions elaborated on in Piazza\n",
    "1. Alice signs the message...\n",
    "2. Bob verifies that Alice signed the message...\n",
    "3. Bob signs the signed message (signs Alices signature)..\n",
    "3. Charlie verifies Bobs signature against Alices signature...\n",
    "4. Chralier verifies Alices signature against the original message..."
   ]
  },
  {
   "cell_type": "code",
   "execution_count": 74,
   "metadata": {},
   "outputs": [
    {
     "name": "stdout",
     "output_type": "stream",
     "text": [
      "Bob successfully verified Alices signature and signed as well\n",
      "Charlie successfully verified that Alice signed the original document\n",
      "Charlie successfully verified that Bob signed Alices signature of the original document\n"
     ]
    }
   ],
   "source": [
    "import random\n",
    "import ecdsa\n",
    "import hashlib\n",
    "import codecs\n",
    "\n",
    "# get the message/document to be signed\n",
    "text_file = open(\"message.txt\", \"rb\").read()\n",
    "\n",
    "# create Alices private key, signing key and verifying key\n",
    "random_element_a = ''.join(['%x' % random.randrange(16) for x in range(16)]).encode('utf-8')\n",
    "alices_pk = codecs.encode(random_element_a, 'hex_codec')\n",
    "alices_sk = ecdsa.SigningKey.from_string(alices_pk, curve = ecdsa.SECP256k1)\n",
    "alices_vk = alices_sk.verifying_key\n",
    "\n",
    "# create Bobs private key, signing key and verifying key\n",
    "random_element_b = ''.join(['%x' % random.randrange(16) for x in range(16)]).encode('utf-8')\n",
    "bobs_pk = codecs.encode(random_element_b, 'hex_codec')\n",
    "bobs_sk = ecdsa.SigningKey.from_string(bobs_pk, curve = ecdsa.SECP256k1)\n",
    "bobs_vk = bobs_sk.verifying_key\n",
    "\n",
    "# Alice signs the message\n",
    "alices_signature = alices_sk.sign(text_file)\n",
    "\n",
    "# Bob verifies that Alice signed the message, then signs her signature\n",
    "assert alices_vk.verify(alices_signature, text_file)\n",
    "bobs_signature = bobs_sk.sign(alices_signature)\n",
    "print(\"Bob successfully verified Alices signature and signed as well\")\n",
    "\n",
    "# Charlie then verifies Alices signature against the original message\n",
    "assert alices_vk.verify(alices_signature, text_file)\n",
    "print(\"Charlie successfully verified that Alice signed the original document\")\n",
    "\n",
    "# Charlie verifies Bobs signature against Alices signature\n",
    "assert bobs_vk.verify(bobs_signature, alices_signature)\n",
    "print(\"Charlie successfully verified that Bob signed Alices signature of the original document\")\n",
    "\n",
    "# END"
   ]
  },
  {
   "cell_type": "markdown",
   "metadata": {},
   "source": [
    "#### Part 2, Questions 2a, 4, 4a, & 5\n",
    "\n",
    "2a\\. What is the information that I must always protect in my \"wallet\"? What is the information Alice and\n",
    "Charlie have that cannot be sent to Bob?\n",
    "\n",
    "> This question is referring to the wallets \"private key.\" This reason this must always be kept secret is because this is the key used to sign transactions and that signature is the only thing used to prove the authenticity of a transaction in the blockchain. So, if someone was to get your wallets private key, they could transfer bitcoin to any other address/wallet they like and the cryptocurrency network would see it as a valid transaction of which there is nothing you can do to invalidate/reverse it.\n",
    "\n",
    "4\\. What is the difference between Encrypting and Digital Signing a Document? (Hint: Look at the\n",
    "cryptography page: https://en.wikipedia.org/wiki/Public-key_cryptography )\n",
    "\n",
    "> The major difference is that the purpose of encryption is to protect the contents of a document by making it unreadable by anyone without the correct key while the purpose of digital signatures is to prove the authenticity of a specific document. Signatures are derived from the contents of a document too, which essentally makes the document immutable since if the document is changed then the provided signature would become invalid. In short, encryption protects the contents of a message while signatures prove the authenticity of a message.\n",
    "\n",
    "4a\\. What property do all encryption schemes share? They are focused on an operation that is easy to\n",
    "perform yet hard to ________. (Hint: Think of multiplying to large prime numbers. This process is easy.)\n",
    "\n",
    "> ...yet hard to reverse. The concept being referred to here is prime factorization where you can easily multiple two prime numbers to get another number that is extremley difficult to factor (reverse) to find its original two multiplied prime values.\n",
    "\n",
    "5\\. Pretend I have 1M Bitcoins. Why won't the blockchain believe that? The blockchain will not believe\n",
    "that because of the ________ transaction model.\n",
    "Hint: Source of Answer: https://blockonomi.com/utxo-vs-account-based-transaction-models/\n",
    "\n",
    "> You cant really claim you have any ammount of Bitcoin due to the fact that Bitcoin uses the utxo transaction model. When you spend Bitcoin you're referring to previous transactions' output that you have the right to \"spend\" as \"your money/Bitcoin.\" These inputs and outputs are essentially chained from the original mining of the coin, through previous transactions all the way up to the point up in time where you want to spend it (as an input into another transaction). You never really \"own\" Bitcoin. A better description would be that you own the right to choose the next transaction the Bitcoin will be put into. Rather you \"control\" Bitcoin as opposed to \"owning\" it."
   ]
  },
  {
   "cell_type": "markdown",
   "metadata": {},
   "source": [
    "#### PART 3: Piazza Reading Reflection\n",
    "Below are links to my responses to the assigned readings...\n",
    "- Investopedia Article: https://piazza.com/class/k5wmk3skpr413n?cid=27_f22\n",
    "- CNBC Article: https://piazza.com/class/k5wmk3skpr413n?cid=28_f21\n",
    "- MIT Technology Review Article: https://piazza.com/class/k5wmk3skpr413n?cid=29_f25"
   ]
  }
 ],
 "metadata": {
  "kernelspec": {
   "display_name": "Python 3",
   "language": "python",
   "name": "python3"
  },
  "language_info": {
   "codemirror_mode": {
    "name": "ipython",
    "version": 3
   },
   "file_extension": ".py",
   "mimetype": "text/x-python",
   "name": "python",
   "nbconvert_exporter": "python",
   "pygments_lexer": "ipython3",
   "version": "3.7.4"
  }
 },
 "nbformat": 4,
 "nbformat_minor": 4
}
